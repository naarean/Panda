{
 "cells": [
  {
   "cell_type": "code",
   "execution_count": 1,
   "metadata": {},
   "outputs": [
    {
     "name": "stdout",
     "output_type": "stream",
     "text": [
      "WARNING:tensorflow:From C:\\Users\\sergio.alegre\\AppData\\Local\\Continuum\\anaconda3\\lib\\site-packages\\tensorflow\\python\\ops\\init_ops.py:1251: calling VarianceScaling.__init__ (from tensorflow.python.ops.init_ops) with dtype is deprecated and will be removed in a future version.\n",
      "Instructions for updating:\n",
      "Call initializer instance with the dtype argument instead of passing it to the constructor\n",
      "Model: \"sequential\"\n",
      "_________________________________________________________________\n",
      "Layer (type)                 Output Shape              Param #   \n",
      "=================================================================\n",
      "conv2d (Conv2D)              (None, 26, 26, 32)        320       \n",
      "_________________________________________________________________\n",
      "conv2d_1 (Conv2D)            (None, 24, 24, 64)        18496     \n",
      "_________________________________________________________________\n",
      "max_pooling2d (MaxPooling2D) (None, 12, 12, 64)        0         \n",
      "_________________________________________________________________\n",
      "dropout (Dropout)            (None, 12, 12, 64)        0         \n",
      "_________________________________________________________________\n",
      "flatten (Flatten)            (None, 9216)              0         \n",
      "_________________________________________________________________\n",
      "dense (Dense)                (None, 128)               1179776   \n",
      "_________________________________________________________________\n",
      "dropout_1 (Dropout)          (None, 128)               0         \n",
      "_________________________________________________________________\n",
      "dense_1 (Dense)              (None, 10)                1290      \n",
      "=================================================================\n",
      "Total params: 1,199,882\n",
      "Trainable params: 1,199,882\n",
      "Non-trainable params: 0\n",
      "_________________________________________________________________\n",
      "Train on 60000 samples, validate on 10000 samples\n",
      "Epoch 1/3\n",
      "60000/60000 [==============================] - 178s 3ms/sample - loss: 0.5350 - acc: 0.8115 - val_loss: 0.3460 - val_acc: 0.8752\n",
      "Epoch 2/3\n",
      "60000/60000 [==============================] - 171s 3ms/sample - loss: 0.3523 - acc: 0.8740 - val_loss: 0.2892 - val_acc: 0.8937\n",
      "Epoch 3/3\n",
      "60000/60000 [==============================] - 158s 3ms/sample - loss: 0.3008 - acc: 0.8921 - val_loss: 0.2783 - val_acc: 0.8942\n"
     ]
    },
    {
     "data": {
      "text/plain": [
       "[0.2783209665775299, 0.8942]"
      ]
     },
     "execution_count": 1,
     "metadata": {},
     "output_type": "execute_result"
    }
   ],
   "source": [
    "##PROYECTO\n",
    "# 1- Process MNIST dataset\n",
    "# 2- Normalize image data, convert labels to integers\n",
    "# 3- Take note of image dimensions using (image.shape, image.channels)\n",
    "# 4- Add a convolutional layer to your sequential() model prior to your input, hidden, and output layers\n",
    "# 5- Conv2D layer with: 32 units, 3x3 kernal size, relu activation function\n",
    "# 6- Second Conv2D activation layer with: 64 units and relu activation function\n",
    "# 7- A MaxPooling2D layer with 2x2 pooling size\n",
    "# 8- Add standard input, hidden, output layers\n",
    "# 9- Save output of model into a variable using .evaluate()\n",
    "\n",
    "import tensorflow as tf\n",
    "from tensorflow import keras as ks\n",
    "\n",
    "# 1- Process MNIST dataset\n",
    "(train_images, train_labels), (test_images, test_labels) = ks.datasets.fashion_mnist.load_data()\n",
    "\n",
    "# 2- Normalize image data, convert labels to integers\n",
    "x_train = train_images.reshape(train_images.shape[0], 28, 28, 1)\n",
    "x_test = test_images.reshape(test_images.shape[0], 28, 28, 1)\n",
    "x_train = x_train.astype('float32') / 255.\n",
    "x_test = x_test.astype('float32') / 255.\n",
    "y_train = ks.utils.to_categorical(train_labels, 10)\n",
    "y_test = ks.utils.to_categorical(test_labels, 10)\n",
    "\n",
    "# 3- Take note of image dimensions using (image.shape, image.channels)\n",
    "input_shape = (28,28,1)\n",
    "\n",
    "# 4- Add a convolutional layer to your sequential() model prior to your input, hidden, and output layers\n",
    "model = ks.Sequential()\n",
    "# 5- Conv2D layer with: 32 units, 3x3 kernal size, relu activation function\n",
    "model.add(ks.layers.Conv2D(32, kernel_size=(3, 3), activation='relu', input_shape=input_shape))\n",
    "# 6- Second Conv2D activation layer with: 64 units and relu activation function\n",
    "model.add(ks.layers.Conv2D(64, (3, 3), activation='relu'))\n",
    "# 7- A MaxPooling2D layer with 2x2 pooling size\n",
    "model.add(ks.layers.MaxPooling2D(pool_size=(2, 2)))\n",
    "model.add(ks.layers.Dropout(0.25))\n",
    "\n",
    "# 8- Add standard input, hidden, output layers\n",
    "model.add(ks.layers.Flatten())\n",
    "model.add(ks.layers.Dense(128, activation='relu'))\n",
    "model.add(ks.layers.Dropout(0.5))                     \n",
    "model.add(ks.layers.Dense(10, activation='softmax'))\n",
    "model.summary()\n",
    "\n",
    "model.compile(loss=ks.losses.categorical_crossentropy,\n",
    "              optimizer='adam',\n",
    "              metrics=['accuracy'])\n",
    "\n",
    "model.fit(x_train, y_train,\n",
    "          batch_size=128,\n",
    "          epochs=3,\n",
    "          verbose=1,\n",
    "          validation_data=(x_test, y_test))\n",
    "\n",
    "# 9- Save output of model into a variable using .evaluate()\n",
    "score = model.evaluate(x_test, y_test, verbose=0)\n",
    "score"
   ]
  },
  {
   "cell_type": "code",
   "execution_count": null,
   "metadata": {},
   "outputs": [],
   "source": []
  }
 ],
 "metadata": {
  "kernelspec": {
   "display_name": "Python 3",
   "language": "python",
   "name": "python3"
  },
  "language_info": {
   "codemirror_mode": {
    "name": "ipython",
    "version": 3
   },
   "file_extension": ".py",
   "mimetype": "text/x-python",
   "name": "python",
   "nbconvert_exporter": "python",
   "pygments_lexer": "ipython3",
   "version": "3.7.3"
  }
 },
 "nbformat": 4,
 "nbformat_minor": 2
}
